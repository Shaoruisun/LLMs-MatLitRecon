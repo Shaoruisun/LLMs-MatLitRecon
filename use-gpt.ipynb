{
 "cells": [
  {
   "cell_type": "code",
   "execution_count": null,
   "id": "641d42f498ca7527",
   "metadata": {
    "ExecuteTime": {
     "end_time": "2023-12-11T07:32:58.053545Z",
     "start_time": "2023-12-11T07:32:58.035349Z"
    },
    "collapsed": false
   },
   "outputs": [],
   "source": [
    "\n",
    "#model name：ft:gpt-3.5-turbo-1106:personal::8Sgbnfod"
   ]
  },
  {
   "cell_type": "code",
   "execution_count": 2,
   "id": "eed96fdec5f316d",
   "metadata": {
    "ExecuteTime": {
     "end_time": "2023-12-11T07:33:11.461400Z",
     "start_time": "2023-12-11T07:33:06.392297Z"
    },
    "collapsed": false
   },
   "outputs": [],
   "source": [
    "import json\n",
    "import os\n",
    "import numpy as np"
   ]
  },
  {
   "cell_type": "code",
   "execution_count": null,
   "id": "5b745ff8e052a3bb",
   "metadata": {
    "ExecuteTime": {
     "end_time": "2023-12-11T07:33:26.745357Z",
     "start_time": "2023-12-11T07:33:25.352611Z"
    },
    "collapsed": false
   },
   "outputs": [],
   "source": [
    "from openai import OpenAI\n",
    "client = OpenAI(api_key=\"your-api-key\")"
   ]
  },
  {
   "cell_type": "code",
   "execution_count": 4,
   "id": "43ef3d8cefae089",
   "metadata": {
    "ExecuteTime": {
     "end_time": "2023-12-11T07:33:34.533134Z",
     "start_time": "2023-12-11T07:33:34.520964Z"
    },
    "collapsed": false
   },
   "outputs": [],
   "source": [
    "para=[\n",
    "    {\"role\": \"system\", \"content\": \"You are a material synthesis information extraction scientist, extract the catalyst synthesis route from the following.\"},\n",
    "    {\"role\": \"user\", \"content\": \"Hello!\"}\n",
    "  ]"
   ]
  },
  {
   "cell_type": "code",
   "execution_count": null,
   "id": "initial_id",
   "metadata": {
    "collapsed": false
   },
   "outputs": [],
   "source": [
    "response = client.chat.completions.create(\n",
    "  model=\"ft:gpt-3.5-turbo:my-org:custom_suffix:id\",\n",
    "  messages=para\n",
    ")\n",
    "print(completion.choices[0].message)"
   ]
  },
  {
   "cell_type": "code",
   "execution_count": null,
   "id": "992d29b6aa0a4b36",
   "metadata": {
    "collapsed": false
   },
   "outputs": [],
   "source": []
  },
  {
   "cell_type": "code",
   "execution_count": null,
   "id": "5a9ea900e4aaa62c",
   "metadata": {
    "ExecuteTime": {
     "end_time": "2023-12-06T12:25:28.953212Z",
     "start_time": "2023-12-06T12:25:28.944496Z"
    },
    "collapsed": false
   },
   "outputs": [],
   "source": [
    "def remove_newlines(text):\n",
    "    return text.replace('\\n', '')\n",
    "\n",
    "\n",
    "def save_to_json_file(data, output_filename):\n",
    "    with open(output_filename, 'w', encoding='utf-8') as outfile:\n",
    "        json.dump(data, outfile, ensure_ascii=False, indent=2)\n",
    "\n",
    "\n",
    "def extract_info(folder_path):\n",
    "    for filename in os.listdir(folder_path):\n",
    "        if not filename.endswith('.txt'):\n",
    "            continue\n",
    "        \n",
    "        file_path = os.path.join(folder_path, filename)\n",
    "        \n",
    "        with open(file_path, 'r', encoding='utf-8') as file:\n",
    "            text = file.read()\n",
    "        cleaned_text = remove_newlines(text)\n",
    "        para[1]['content']  = cleaned_text\n",
    "        completion = client.chat.completions.create(model=\"ft:gpt-3.5-turbo-1106:personal::8Sgbnfod\",messages=para)\n",
    "        answer = completion.choices[0].message.content\n",
    "        print(filename)\n",
    "        print(completion.choices[0].message.content)\n",
    "\n",
    "        print('======================================================')\n",
    "\n",
    "        json_filename = f\"{filename[:-4]}.json\"\n",
    "        output_folder = './gpt3.5-fintune-result20'          \n",
    "\n",
    "        file_path = os.path.join(output_folder, json_filename)\n",
    "                \n",
    "        with open(file_path, 'w') as file:\n",
    "            json.dump(answer, file, indent=4)"
   ]
  },
  {
   "cell_type": "code",
   "execution_count": null,
   "id": "b51c55f4208b186c",
   "metadata": {
    "ExecuteTime": {
     "end_time": "2023-12-06T12:26:33.977581Z",
     "start_time": "2023-12-06T12:25:31.129186Z"
    },
    "collapsed": false
   },
   "outputs": [
    {
     "name": "stdout",
     "output_type": "stream",
     "text": [
      "10.1016j.jcat.2006.07.001.txt\n",
      "{'Catalyst': {'product': {'name': 'Fe-ZSM-5 zeolite', 'denoted': 'Fe-Z25'}, 'method': 'liquid-ion exchange', 'raw material': ['NH4-ZSM-5 zeolite', 'iron(II) sulfate'], 'step': {'introduce': {'reagents': 'iron(II) sulfate', 'temperature': '353 K'}, 'calcined1': {'temperature': '823 K', 'time': '5h', 'atmosphere': 'static air'}, 'calcined2': {'temperature': '873 K', 'time': '2h', 'atmosphere': 'static air'}}}}\n",
      "======================================================\n",
      "10.1016j.fuel.2015.05.034.txt\n",
      "{'Catalyst': {'product_name': 'Mo–TiO2, Ag–TiO2, Ag–Mo–TiO2', 'method': 'impregnation method', 'raw_material': ['P25', '(NH4)6Mo7O24⋅4H2O', 'PVP', 'AgNO3precursor'], 'step': {'mix1': {'reagents': ['P25', '(NH4)6Mo7O24⋅4H2O']}, 'stir1': {'time': '1h'}, 'add': {'reagents': ['B solution']}, 'stir2': {'time': '2h'}, 'evaporate': [], 'dry': {'instrument': 'rotary evaporation apparatus (RE-52AAA, Shanghai)'}, 'calcined': {'temperature': '500°C', 'time': '5h', 'instrument': 'muffle furnace'}}}}\n",
      "======================================================\n",
      "10.1016j.apcatb.2013.10.040.txt\n",
      "{'Catalyst1': {'product': {'name': 'Parent γ-alumina ', 'denoted': 'Ag/xXX/Al2O3'}, 'method': 'calcined', 'raw material': 'pseudoboehmite', 'step': {'calcined1': {'temperature': '500°C', 'time': '4h', 'atmosphere': 'static air'}}}, 'Catalys2': {'product': {'name': 'Ti/Al2O3and the Si/Al2O3'}, 'method': 'impregnation', 'raw material': ['alumina', 'titanium (IV) isopropoxide', 'TEOS'], 'step': {'impregnation1': {'reagents': ['dopant', 'titanium (IV) isopropoxide', 'butanol']}, 'dried': {'temperature': 'room temperature', 'time': 'overnight'}, 'calcined2': {'temperature': '550°C', 'time': '4h', 'atmosphere': 'static air'}}}, 'Catalyst3': {'product': {'name': '1% Mg/Al2O3'}, 'method': 'impregnation', 'raw material': 'Mg(NO3)2', 'step': {'impregnation': {'reagents': 'Mg(NO3)2'}, 'dry': {'temperature': 'room temperature', 'time': 'overnight'}, 'calcined': {'temperature': '550°C', 'time': '4h', 'atmosphere': 'static air'}}}, 'Catalyst4': {'product': {'name': '0.9% W/Al2O3'}, 'method': 'impregnation', 'raw material': ['W', 'alumina'], 'step': {'consecutive impregnations': {'reagents': ['dopants', 'ammonium metatungstate (NH4)6H2W12O40(Aldrich)']}, 'dry': {'temperature': 'room temperature', 'time': 'overnight'}, 'calcined': {'temperature': '550°C', 'time': '4h', 'atmosphere': 'static air'}}}, 'Catalyst5': {'product': {'name': 'Catalyst 1Ti/Ag/Al2O3'}, 'method': 'impregnation', 'raw material': 'alumina', 'step': {'impregnation': {'reagents': ['AgNO3', 'ammonium metatungstate (NH4)6H2W12O40(Aldrich)']}, 'dry': {'temperature': 'room temperature', 'time': 'overnight'}, 'calcined': {'temperature': '550°C', 'time': '4h', 'atmosphere': 'static air'}}}, 'Catalyst6': {'product': {'name': 'Ag/Siralox'}, 'method': 'impregnation', 'raw material': ['commercially available silica–alumina', 'AgNO3'], 'step': {'impregnation': {'reagents': 'AgNO3'}, 'dry': {'temperature': 'room temperature', 'time': 'overnight'}, 'calcined': {'temperature': '550°C', 'time': '4h', 'atmosphere': 'static air'}}}, 'Catalyst7': {'product': {'name': 'Ag/Al2O3-noSOx '}, 'method': 'impregnation', 'raw material': ['dopant', 'alumina'], 'step': {'impregnation': {'reagents': 'agNO3'}, 'dried': {'temperature': 'room temperature', 'time': 'overnight'}, 'calcined': {'temperature': '550°C', 'time': '4h', 'atmosphere': 'static air'}}}}\n",
      "======================================================\n",
      "10.1016S1381-1169(00)00342-3.txt\n",
      "{'Catalyst1': {'product': 'Titanium oxide', 'method': 'Precipitation', 'raw material': ['TiCl4', 'ammonia solution'], 'step': {'step1': {'add': ['TiCl4', 'ammonia solution'], 'condition': {'pH': '7', 'T': '70°C'}}, 'step2': {'calcined': {'temperature': '500°C', 'time': '4h', 'atmosphere': 'air'}}}}, 'Catalyst2': {'product': 'Catalysts', 'method': 'Incipient wetness impregnation', 'raw material': ['TiO2', 'Cu(NO3)2·3H2O'], 'step': {'impregnation': {'reagents': ['TiO2', 'Cu(NO3)2·3H2O']}, 'add': {'reagents': 'TiO2'}, 'dry': {'temperature': '110°C', 'instrument': 'IR lamp'}, 'calcined': {'temperature': '500°C', 'time': '4h', 'atmosphere': 'air'}}}, 'Catalyst3': {'product': 'Catalysts', 'method': 'Equilibrium adsorption', 'raw material': ['TiO2', '0.47M copper tetraammoniate solution'], 'step': {'adsorption': {'reagents': [' TiO2', '0.47M copper tetraammoniate solution'], 'time': '3 days'}, 'wash': {'reagents': 'distilled water'}, 'dry': {'instrument': 'IR lamp', 'temperature': '110°C'}, 'calcined': {'temperature': '500°C', 'time': '4h'}}}}\n",
      "======================================================\n",
      "10.1016S1872-2067(16)62533-0.txt\n",
      "{'Catalyst1': {'product': {'name': 'Γ-Al2O3', 'denoted': 'Γ-Al2O3'}, 'method': 'dried and calcined', 'raw material': 'Commercial pseudo-boehmite powder', 'step': {'dry': {'temperature': 'room temperature'}, 'calcine': {'temperature': '550 °C', 'time': '6 h'}}}, 'Catalyst2': {'product': {'name': 'TiO2/Γ-Al2O3carrier', 'denoted': 'TA'}, 'method': 'impregnation', 'raw material': ['titanium isopropoxide', 'isopropyl alcohol solution', 'Γ-Al2O3'], 'step': {'add1': {'reagents': ['titanium isopropoxide', '20 mL isopropyl alcohol solution']}, 'add2': 'Γ-Al2O3', 'stir': {'time': '8 h'}, 'dry': {'temperature': '120 °C'}, 'calcined': {'temperature': '550 °C', 'time': '6 h'}, 'load': {'reagents': 'TiO2', 'proportion': '15 wt%'}}}, 'Catalyst3': {'product': {'name': 'InAg/TA', 'denoted': 'TA supported In/Ag \\n'}, 'method': 'incipient wetness impregnation', 'raw material': ['carrier material TA', 'indium nitrate solution', 'silver nitrate solution'], 'step': {'impregnate': {'reagents': ['carrier material TA', 'indium nitrate solution', 'silver nitrate solution']}, 'stir': {'time': '2 h'}, 'dry': {'temperature': '120 °C'}, 'calcined': {'temperature': '600 °C', 'time': '6 h'}, 'content': {'In or Ag': '8 wt%'}}}}\n",
      "======================================================\n",
      "10.1016j.chemosphere.2009.02.015.txt\n",
      "{'Catalyst1': {'product': {'name': 'V2O5/TiO2catalyst', 'denoted': 'V2O5/TiO2'}, 'method': 'thermal decomposition', 'raw material': ['Vanadium oxytripropoxide (VO[OCH2CH2CH2CH3]3)', 'Titanium tetraisopropoxide (TTIP)'], 'step': {'mix': {'reagents': ['Vanadium oxytripropoxide', 'Titanium tetraisopropoxide']}, 'introduce': {'instrument': 'bubbler', 'atmosphere': 'argon'}, 'heat1': {'temperature': '95-110°C', 'instrument': 'oil bath', 'atmosphere': ' argon'}, 'bubbling': {'reagents': 'precursor solution'}, 'heat2': {'temperature': '900-1300°C', 'atmosphere': 'air'}, 'collect': {'instrument': 'alumina tube', 'temperature': '900-1300°C'}, 'cool': {'instrument': 'particle collection device', 'temperature': 'cooling water'}}}}\n",
      "======================================================\n",
      "10.1016j.jiec.2013.08.012.txt\n",
      "{'Catalyst': {'product': {'name': 'polymer catalyst'}, 'method': 'HC-SCR', 'raw material': 'Nox', 'step': {'placed': {'instrument': 'SCR reactor', 'heater': 'tubular uniform distributed heater'}, 'add': {'substance': 'granular alumina'}, 'set': {'temperature': ['75°C', '100°C', '150°C', '200°C', '250°C', '300°C']}, 'examined': {'temperature': 'inlet, middle and outlet'}, 'measure': {'time': '10min'}}}}\n",
      "======================================================\n",
      "10.1016j.apcatb.2009.04.007.txt\n",
      "{'Catalyst': {'product': {'name': 'Ce0.6Zr0.4O2', 'denoted': 'pCeZr fresh'}, 'method': 'sol-gel', 'raw material': ['Ce(NO3)3·6H2O', 'Zr(NO3)4·5H2O'], 'step': {'fresh powder': {}, 'calcined': {'temperature': '650°C', 'time': '8h'}}}, 'Support': {'product': {'name': 'alumina supported ceria–zirconia sample', 'denoted': 'mCeZrAl fresh'}, 'method': 'impregnation', 'raw material': [' platinum (1wt%, Pt(acac)2, toluene)'], 'step': {'dip': {'reagents': ['Pt(acac)2in toluene'], 'temperature': '70°C'}, 'calcined': {'temperature': '400°C', 'time': '5h'}}}, 'Impregnate': {'product': {'name': 'Ceria–zirconia–alumina samples', 'denoted': 'pPtCeZrAl fresh'}, 'reagents': ['Pt(1wt%)'], 'step': {'impregnate': {}, 'dry': {'temperature': '120°C', 'time': '1h'}, 'calcined': {'temperature': '550°C', 'time': '3h'}}}}}\n",
      "======================================================\n",
      "10.1016j.fuel.2020.120026.txt\n",
      "{'Catalyst': {'product': {'name': 'catalyst', 'purity': 'unknown'}, 'method': 'oxygen-etching method'}}, 'Device': 'bubbling photo-catalytic reactor', 'Raw materials': ['K2S2O8', 'P25TiO2', 'ZrOCl2∙8H2O', 'NaOH'], 'Step': {'photolysis': {'reagents': ['NaOH', 'ZrOCl2∙8H2O']}, 'tert-butyl alcoholysis': {'reagents': ['NaOH', 'P25TiO2']}, 'drying': {'temperature': '110°C'}, 'oxygen-etching': {'reagents': ['K2S2O8'], 'temperature': ' 180°C', 'time': '3 h'}}}\n",
      "======================================================\n",
      "10.1016j.jcat.2022.02.004.txt\n",
      "{'Catalyst': {'product': 'CuMgAl-NO3-LDO and CuMgAl-SDSO-LDO catalyst', 'method': 'calcined', 'raw material': ['CuMgAl-NO3-LDH/SDSO', 'CuMgAl-SDSO-LDH precursors'], 'step': {'calc1': {'atmosphere': 'N2', 'temperature': '500 °C', 'time': '5 h', 'instrument': 'tube furnace'}, 'calc2': {'atmosphere': 'air', 'temperature': '400 °C', 'time': '4 h', 'instrument': 'muffle furnace'}}}}\n",
      "======================================================\n",
      "10.1016j.joei.2018.06.016.txt\n",
      "{'Catalyst1': {'product': 'V/TiO2catalyst', 'method': 'impregnation method', 'raw material': ['commercial TiO2in anatase', 'ammonium vanadate'], 'step': {'impregnate': {'support': 'commercial TiO2in anatase', 'reagents': 'ammonium vanadate', 'molar ratio': 'V/Ti molar ratio\\xa0=\\xa00.12'}, 'dry': {'temperature': '100\\xa0°C', 'time': '12\\xa0h'}, 'calcined': {'temperature': '500\\xa0°C', 'time': '5\\xa0h', 'atmosphere': 'air'}}}, 'Catalyst2': {'product': 'V/TiO2-Cl', 'method': 'impregnation method', 'raw material': ['V/TiO2catalyst', 'NH4Cl'], 'step': {'impregnate': {'reagents': ['NH4Cl', 'V/TiO2catalyst'], 'molar ratio': 'Cl/V molar ratio\\xa0= 0.25'}, 'dry': {'temperature': '100\\xa0°C', 'time': '12\\xa0h'}, 'calcined': {'temperature': '500\\xa0°C', 'time': '5\\xa0h', 'atmosphere': 'air'}}}}}\n",
      "======================================================\n",
      "10.1016j.apcata.2011.10.030.txt\n",
      "{'Catalyst': {'product': {'name': 'ceria–zirconia mixed oxides', 'denoted': 'Ce1−xZrxO2', 'range': 'x=0, 0.2, 0.4, 0.6, 0.8 and 1.0'}, 'method': 'surfactant-templated method', 'raw material': ['cerium (III) nitrate (Ce(NO3)3·6H2O)', 'zirconium nitrate (Zr(NO3)4·5H2O)', 'CTAB'], 'step': {'add': {'reagents': ['CTAB', 'mixed aqueous solution of Ce(NO3)3·6H2O and Zr(NO3)4·5H2O'], 'molar ratio': 'CTAB/([Ce]+[Zr]) = 0.4'}, 'stir1': {'time': '0.5h'}, 'add2': {'reagents': 'aqueous ammonia (25%)', 'pH': 'pH=10'}, 'stir2': {'time': '12h'}, 'hydrothermally': {'temperature': '90°C', 'time': '24h', 'instrument': 'teflon-lined autoclave vessel'}, 'filter': [], 'wash': {'reagents': ['deionized water', 'absolute ethanol']}, 'dry': {'temperature': '100°C', 'time': 'overnight'}, 'calcined': {'temperature': '550°C', 'time': '3h', 'atmosphere': 'air'}}}}}\n",
      "======================================================\n",
      "10.1016j.cej.2016.08.076.txt\n",
      "{'Catalyst': {'product': {'name': 'H/ZSM-5', 'support': 'H/ZSM-5', 'Si/Al': '75', 'pore volume': '0.303cm3/g', 'BET surface area': '351.8m2/g'}, 'method': 'ion impregnation', 'raw material': ['Fe(NO3)3', 'H/ZSM-5'], 'step': {'impregnate': {'reagents': ['Fe(NO3)3', 'H/ZSM-5']}, 'stir': {'time': '24h'}, 'dry': {'temperature': '120°C', 'time': '12h'}, 'calcined': {'temperature': '500°C', 'time': '6h', 'atmosphere': 'air'}}}}\n",
      "======================================================\n",
      "10.1016j.apcata.2017.10.010.txt\n",
      "{'Catalyst1': {'product': {'name': 'Mn-Ti mixed oxide', 'denoted': 'Mn5-Ti5'}, 'method': 'urea-homogeneous precipitation', 'raw material': ['titanium (IV) sulfate (Ti(SO4)2·9H2O)', 'manganous nitrate (Mn(NO3)2·6H2O)', 'urea (CO(NH2)2)'], 'step': {'dissolve': {'reagents': ['0.5mol titanium (IV) sulfate', ' 0.5mol manganous nitrate', '0.33mol urea ', '200mL deionized water']}, 'mix': {}, 'stir': {'temperature': '90°C', 'time': '8h'}, 'wash': {'reagents': ['DI water', 'ethanol']}, 'dry': {'temperature': '60°C', 'time': '12h'}, 'calcined': {'temperature': '400°C', 'time': '4h', 'rate': '10°C/min'}}}, 'Catalyst2': {'product': {'name': 'Ni-Ti mixed oxide', 'denoted': 'Ni5-Ti5'}, 'method': 'urea-homogeneous precipitation', 'raw material': ['titanium (IV) sulfate (Ti(SO4)2·9H2O)', 'nickel nitrate (Ni(NO3)2·6H2O)', 'urea (CO(NH2)2)'], 'step': {'dissolve': {'reagents': ['0.5mol titanium (IV) sulfate', '0.5mol nickel nitrate', '0.33mol urea', '200mL deionized water']}, 'mix': {}, 'stir': {'temperature': '90°C', 'time': '8h'}, 'wash': {'reagents': ['DI water', 'ethanol']}, 'dry': {'temperature': '60°C', 'time': '12h'}, 'calcined': {'temperature': '400°C', 'time': '4h', 'rate': '10°C/min'}}}, 'Catalyst3': {'product': {'name': 'Mn-Ni-Ti mixed oxide', 'denoted': 'Mn4-Ni1, Mn3-Ni2, Mn2-Ni3 and Mn1-Ni4'}, 'method': 'urea-homogeneous precipitation', 'raw material': ['titanium (IV) sulfate (Ti(SO4)2·9H2O)', 'nickel nitrate (Ni(NO3)2·6H2O)', 'manganous nitrate (Mn(NO3)2·6H2O)'], 'step': {'dissolve': {'reagents': ['0.5mol titanium (IV) sulfate', '0.5mol manganous nitrate', '0.33mol urea', '200mL deionized water']}, 'mix': {}, 'stir': {'temperature': '90°C', 'time': '8h'}, 'wash': {'reagents': ['DI water', 'ethanol']}, 'dry': {'temperature': '60°C', 'time': '12h'}, 'calcined': {'temperature': '400°C', 'time': '4h', 'rate': '10°C/min'}}}}\n",
      "======================================================\n",
      "10.1016j.cej.2020.127833.txt\n",
      "{'Catalyst1': {'product': {'name': 'CeO2-WO3/TiO2', 'denoted': 'CeW/Ti-I'}, 'method': 'wetness impregnation method', 'raw material': ['Ce(NO3)3·6H2O', '(NH4)6H2W12O40·xH2O', 'TiO2'], 'step': {'dissolve1': {'reagents': ['Ce(NO3)3·6H2O', '(NH4)6H2W12O40·xH2O', 'deionized water']}, 'dry1': {'temperature': '70 °C', 'instrument': 'rotary evaporator', 'time': 'vacuum pump'}, 'dry2': {'temperature': '120 °C', 'time': '12 h'}, 'calcined': {'temperature': '550 °C', 'time': '4 h', 'atmosphere': 'air'}}}, 'Catalyst2': {'product': {'name': 'CeO2-WO3/TiO2', 'denoted': 'Ce/W/Ti-M'}, 'method': 'mechanical mixing method', 'raw material': ['CeO2', 'WO3', 'TiO2'], 'step': {'mix': {'reagents': ['CeO2', 'WO3', 'TiO2']}, 'calcined': {'temperature': '550 °C', 'time': '4 h'}}}}\n",
      "======================================================\n",
      "10.1016j.ijhydene.2011.02.059.txt\n",
      "{'Catalyst': {'product': {'name': 'catalyst'}, 'method': 'unknown'}}}\n",
      "======================================================\n",
      "10.1016j.apcatb.2008.04.008.txt\n",
      "{'Catalyst': {'product': {'name': 'M/TiO2', 'denoted': 'M=Ru, Rh, Pd, Pt'}, 'method': 'single step solution combustion method', 'raw material': ['titanyl nitrate (TiO(NO3)2)', 'precious metal salts (RuCl3, RhCl3·xH2O, PdCl2, H2PtCl6)', 'glycine'], 'step': {'take': {'reagents': ['TiO(NO3)2', 'precious metal salts'], 'ratio': '0.99:0.01'}, 'add': {'reagents': 'glycine'}, 'introduce': {'instrument': 'muffle furnace', 'temperature': '350°C'}, 'burn': [], 'dry': {'temperature': '350°C'}}}}\n",
      "======================================================\n",
      "10.1016j.jhazmat.2020.123502.txt\n",
      "{'Catalyst': {'product': {'name': 'V-Ce/AC'}, 'method': ' ultrasound-assisted impregnation', 'raw material': 'AC'}}\n",
      "======================================================\n",
      "10.1016j.jcat.2003.07.008.txt\n",
      "{'Catalyst1': {'product': {'name': 'Na-MFI', 'denoted': 'Z', 'mole ratio': 'Si/Al=15'}, 'method': 'dry gel conversion technique', 'raw material': ['SiO2', 'Al2O3', 'Na2O', 'TPA2O', 'NaOH', 'NaAlO2', 'TPAOH', 'H2SO4'], 'step': {'add1': {'reagents': ['60g Ludox HS-40', '34g water']}, 'stir': {'time': '30min'}, 'add2': {'reagents': ['2.13g NaOH', '2.19g NaAlO2', '32.5g 20% TPAOH', '150g H2O']}, 'adjust': {'reagents': 'H2SO4', 'pH': '6~10'}, 'stir2': {'time': '30min'}, 'add3': {'reagents': 'solution\\xa0A'}, 'stir3': {'time': '90min'}, 'transfer': 'Teflon-lined autoclaves', 'heat': {'temperature': '170°C', 'time': '72h'}, 'stir4': {'time': '30min'}, 'filter': {}, 'wash': {'reagents': 'deionized water'}, 'dry': {'temperature': '100°C', 'time': 'overnight'}, 'calcined': {'temperature': '560°C', 'time': '15h', 'atmosphere': 'air'}}}, 'Catalyst2': {'product': {'name': 'Co2+-exchanged MFI', 'denoted': 'Co-Z'}, 'method': 'conventional solution cation-exchange method', 'raw material': ['Na-MFI', 'cobalt nitrate solution'], 'step': {'add': {'reagents': ['2g solid sample', '40ml 0.1N Co(NO3)2']}, 'stir': {'time': '24h', 'temperature': 'room temperature'}, 'recover': {}, 'wash': {'reagents': 'centrifugation', 'time': '3 times'}, 'dry': {'temperature': '100°C', 'time': 'overnight'}, 'calcined': {'temperature': '600°C', 'time': '6h', 'atmosphere': 'air'}}}, 'Catalyst3': {'product': {'name': 'Co2+ incorporated MFI', 'denoted': 'Z05', 'mole ratio': 'Si/Al=20'}, 'method': 'general procedure described in the literature', 'raw material': ['SiO2', 'Al2O3', 'Na2O', 'TPA2O', 'NaOH', 'Ludox HS-40', 'CoCl2·6H2O', 'TPAOH', 'H2SO4'], 'step': {'add1': {'reagents': ['NaOH(2.13g)', 'Ludox HS-40(60g)', 'water(164g)']}, 'stir1': {'time': '30min'}, 'add2': {'reagents': 'H2SO4', 'pH': '12'}, 'add3': {'reagents': '20% TPAOH (32.5g)'}, 'stir2': {'time': '30min'}, 'add4': {'reagents': '20 ml CoCl2 solution'}, 'crystallization': {'temperature': 'room temperature', 'time': '30min'}, 'wash': {'reagents': 'deionized water'}, 'dry': {'temperature': '100°C', 'time': 'overnight'}, 'calcined': {'temperature': '560°C', 'time': '15h'}}}}\n",
      "======================================================\n",
      "10.1016j.jcis.2018.04.003.txt\n",
      "{'Catalyst': {'product': {'name': 'CeO2-CePO4', 'molar ratio': 'CexP1−x((CeO2)x−(CePO4)1−x, nCeO2+nCePO4=1)'}, 'method': 'one-pot method', 'raw material': ['cerium nitrate hexahydrate', 'H3PO4', 'ammonia water'], 'step': {'add': {'reagents': ['85\\xa0wt% H3PO4', '0.01\\xa0mol cerium nitrate hexahydrate']}, 'stir1': {'time': 'vigorously'}, 'drop': {'reagents': 'ammonia water', 'target': 'pH', 'pH': '9'}, 'stir2': {'time': '2h'}, 'age': {'time': '24h', 'temperature': 'room temperature'}, 'separate': {}, 'wash': {'times': 'several times', 'pH': '7'}, 'dry': {'temperature': '80°C'}, 'calcine': {'temperature': '450°C', 'time': '3h', 'atmosphere': 'air'}}}}\n",
      "======================================================\n"
     ]
    }
   ],
   "source": [
    "extract_info('file_path')#/Users/lsy/work/2--SCR_IE/paragraph"
   ]
  },
  {
   "cell_type": "code",
   "execution_count": null,
   "id": "20c52ca490797b07",
   "metadata": {
    "collapsed": false
   },
   "outputs": [],
   "source": []
  },
  {
   "cell_type": "code",
   "execution_count": null,
   "id": "2edafd7601cfa3b3",
   "metadata": {
    "collapsed": false
   },
   "outputs": [],
   "source": []
  }
 ],
 "metadata": {
  "kernelspec": {
   "display_name": "Python 3",
   "language": "python",
   "name": "python3"
  },
  "language_info": {
   "codemirror_mode": {
    "name": "ipython",
    "version": 2
   },
   "file_extension": ".py",
   "mimetype": "text/x-python",
   "name": "python",
   "nbconvert_exporter": "python",
   "pygments_lexer": "ipython2",
   "version": "2.7.6"
  }
 },
 "nbformat": 4,
 "nbformat_minor": 5
}
