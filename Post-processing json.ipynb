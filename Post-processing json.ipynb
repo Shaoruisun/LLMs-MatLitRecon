{
 "cells": [
  {
   "cell_type": "code",
   "execution_count": 2,
   "id": "initial_id",
   "metadata": {
    "ExecuteTime": {
     "end_time": "2024-01-22T13:36:44.483608Z",
     "start_time": "2024-01-22T13:36:43.356024Z"
    },
    "collapsed": true
   },
   "outputs": [],
   "source": [
    "import json\n",
    "import os\n",
    "import ast\n",
    "import pandas as pd"
   ]
  },
  {
   "cell_type": "code",
   "execution_count": null,
   "id": "889f1cc5072d4ae8",
   "metadata": {
    "ExecuteTime": {
     "end_time": "2024-01-22T13:36:45.180064Z",
     "start_time": "2024-01-22T13:36:45.171327Z"
    },
    "collapsed": false
   },
   "outputs": [],
   "source": [
    "\n",
    "def has_set(d):\n",
    "    for value in d.values():\n",
    "        if isinstance(value, set):\n",
    "            return True\n",
    "        elif isinstance(value, dict):\n",
    "            if has_set(value):\n",
    "                return True\n",
    "    return False\n",
    "\n",
    "def convert_sets_to_lists(d):\n",
    "    new_dict = {}\n",
    "    for key, value in d.items():\n",
    "        if isinstance(value, set):\n",
    "            new_dict[key] = list(value)\n",
    "        elif isinstance(value, dict):\n",
    "            new_dict[key] = convert_sets_to_lists(value)\n",
    "        else:\n",
    "            new_dict[key] = value\n",
    "    return new_dict\n",
    "\n",
    "def check_syntax_errors(dictionary):\n",
    "    for key, value in dictionary.items():\n",
    "        if isinstance(value, str):\n",
    "            try:\n",
    "                ast.parse(value)\n",
    "            except SyntaxError as e:\n",
    "                print(f\"SyntaxError in key '{key}': {e}\")\n",
    "        elif isinstance(value, dict):\n",
    "            check_syntax_errors(value)\n",
    "\n",
    "def convert_quotes(input_data):\n",
    "    if isinstance(input_data, dict):\n",
    "        return {key: str(value).replace(\"'\", '\"') if isinstance(value, str) else value for key, value in input_data.items()}\n",
    "\n",
    "    elif isinstance(input_data, str):\n",
    "        modified_string = input_data.replace(\"'\", \"\\\"\")\n",
    "        return modified_string\n",
    "    else:\n",
    "        return input_data\n",
    "\n",
    "def delete_one_brace(input_string):\n",
    "    modified_string = input_string.replace(\"}}}}\", \"}}}\")\n",
    "    return modified_string\n",
    "\n",
    "def save_json(user_dict,filename):\n",
    "    json_dict = json.dumps(user_dict, indent=2, sort_keys=True, ensure_ascii=False)\n",
    "    json_filename = f\"{filename[:-4]}.json\"\n",
    "    output_folder = './all_processed'           \n",
    "    # 使用 os.path.join 来拼接文件路径\n",
    "    output_path = os.path.join(output_folder, json_filename)\n",
    "    with open(output_path, \"w\", encoding='utf-8') as f: \n",
    "        f.write(json_dict)\n",
    "    \n",
    "    print(filename)\n"
   ]
  },
  {
   "cell_type": "code",
   "execution_count": null,
   "id": "b1e2dedb8bf4507a",
   "metadata": {
    "ExecuteTime": {
     "end_time": "2024-01-18T04:11:07.248430Z",
     "start_time": "2024-01-18T04:11:07.244487Z"
    },
    "collapsed": false
   },
   "outputs": [],
   "source": [
    "\n",
    "def json_processed(folder_path):\n",
    "    for filename in os.listdir(folder_path):\n",
    "        if not filename.endswith('.txt'):\n",
    "            continue\n",
    "        \n",
    "        file_path = os.path.join(folder_path, filename)\n",
    "        \n",
    "        with open(file_path, 'r', encoding='utf-8') as file:\n",
    "            text = file.read()"
   ]
  },
  {
   "cell_type": "code",
   "execution_count": null,
   "id": "b5ed4f02",
   "metadata": {},
   "outputs": [],
   "source": [
    "folder_path = './all_extract'\n",
    "files = [f for f in os.listdir(folder_path) if f.endswith('.json')]\n",
    "sorted_files = sorted(files)\n",
    "for filename in sorted_files:\n",
    "    file_path = os.path.join(folder_path,filename)\n",
    "    print(filename)\n",
    "    with open(file_path, 'r') as load_f:\n",
    "        load_dict = json.load(load_f) \n",
    "    \n",
    "    load_dict = delete_one_brace(load_dict)\n",
    "    load_dict = convert_quotes(load_dict)\n",
    "        \n",
    "    try:\n",
    "        user_dict = ast.literal_eval(load_dict) \n",
    "        \n",
    "    except SyntaxError:\n",
    "        input_string = load_dict\n",
    "        #input_string = input_string[0:]\n",
    "        #input_string = input_string[:-1]\n",
    "        #print(input_string)\n",
    "        user_dict = delete_one_brace(input_string)\n",
    "        \n",
    "        user_dict = ast.literal_eval(input_string)\n",
    "\n",
    "    except TypeError as e:\n",
    "        print(filename,f\"Error: {e}\")\n",
    "        \n",
    "    if has_set(user_dict):\n",
    "        user_dict = convert_sets_to_lists(user_dict)   \n",
    "    else:\n",
    "        user_dict = user_dict\n",
    "       \n",
    "    \n",
    "    print(filename,type(user_dict))  \n",
    "    json_dict = json.dumps(user_dict, indent=2, sort_keys=True, ensure_ascii=False)\n",
    "    json_filename = f\"{filename[:-4]}.json\"\n",
    "    output_folder = './all_processed'          \n",
    "\n",
    "    output_path = os.path.join(output_folder, json_filename)\n",
    "                \n",
    "\n",
    "    with open(output_path, \"w\", encoding='utf-8') as f: \n",
    "        f.write(json_dict)\n",
    "        "
   ]
  },
  {
   "cell_type": "code",
   "execution_count": null,
   "id": "a94fe8710c77b6ec",
   "metadata": {
    "collapsed": false
   },
   "outputs": [],
   "source": []
  }
 ],
 "metadata": {
  "kernelspec": {
   "display_name": "Python 3",
   "language": "python",
   "name": "python3"
  },
  "language_info": {
   "codemirror_mode": {
    "name": "ipython",
    "version": 2
   },
   "file_extension": ".py",
   "mimetype": "text/x-python",
   "name": "python",
   "nbconvert_exporter": "python",
   "pygments_lexer": "ipython2",
   "version": "2.7.6"
  }
 },
 "nbformat": 4,
 "nbformat_minor": 5
}
